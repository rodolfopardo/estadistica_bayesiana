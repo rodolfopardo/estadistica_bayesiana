{
 "cells": [
  {
   "cell_type": "markdown",
   "metadata": {},
   "source": [
    "## Aplicación Teorema de Bayes"
   ]
  },
  {
   "cell_type": "markdown",
   "metadata": {},
   "source": [
    "Caso: en la fiesta de cumpleaños de Julián, quien cumplía 7 años, su padre tiene tres grandes bolsas repletas de golosinas. En la primera bolsa, había 20 picos dulces, 50 chupetines, 30 chocolates. En la segunda bolsa había 60 picos dulces, 30 chocolates y 10 chupetines mientras que en la tercera y última bolsa, habían 60 chocolates, 30 picos dulces y 10 chupetines. "
   ]
  },
  {
   "cell_type": "markdown",
   "metadata": {},
   "source": [
    "Ejercicio: \n",
    "\n",
    "1. Usando bayes, calcular la probabilidad de sacar picos dulces de la bolsa 1,2,3\n",
    "2. Usando bayes, calcular la probabilidad de sacar chupetines de la bolsa 1,2,3\n",
    "3. Usando bayes, calcular la probabilidad de sacar chocolates de la bolsa 1,2,3"
   ]
  },
  {
   "cell_type": "code",
   "execution_count": 7,
   "metadata": {},
   "outputs": [
    {
     "data": {
      "text/plain": [
       "array([0.18181818, 0.54545455, 0.27272727])"
      ]
     },
     "execution_count": 7,
     "metadata": {},
     "output_type": "execute_result"
    }
   ],
   "source": [
    "import numpy as np\n",
    "\n",
    "#Respuesta 1: probabilidad de sacar picos dulces\n",
    "\n",
    "def bayes(bosas, porcentajes):\n",
    "    marg = sum(np.multiply(bolsas, porcentajes))\n",
    "    post = np.divide(np.multiply(bolsas, porcentajes), marg)\n",
    "    return post\n",
    "bolsas = [1/3, 1/3, 1/3]\n",
    "porcentajes = [0.2, 0.6,0.3]\n",
    "\n",
    "bayes(bolsas,porcentajes)"
   ]
  },
  {
   "cell_type": "code",
   "execution_count": 8,
   "metadata": {},
   "outputs": [
    {
     "name": "stdout",
     "output_type": "stream",
     "text": [
      "En la primera bolsa, hay una probabilidad del 33% que saque picos dulces\n",
      "En la segunda bolsa, hay una probabilidad del 54% que saque picos dulces\n",
      "En la tercera bolsa, hay una probabilidad del 27% que saque picos dulces\n"
     ]
    }
   ],
   "source": [
    "print(\"En la primera bolsa, hay una probabilidad del 33% que saque picos dulces\")\n",
    "print(\"En la segunda bolsa, hay una probabilidad del 54% que saque picos dulces\")\n",
    "print(\"En la tercera bolsa, hay una probabilidad del 27% que saque picos dulces\")"
   ]
  },
  {
   "cell_type": "code",
   "execution_count": 9,
   "metadata": {},
   "outputs": [
    {
     "data": {
      "text/plain": [
       "array([0.71428571, 0.14285714, 0.14285714])"
      ]
     },
     "execution_count": 9,
     "metadata": {},
     "output_type": "execute_result"
    }
   ],
   "source": [
    "#Respuesta2: probabilidad de sacar chupetines \n",
    "\n",
    "bolsas = [1/3, 1/3, 1/3]\n",
    "porcentajes = [0.5, 0.1 ,0.1]\n",
    "\n",
    "bayes(bolsas,porcentajes)"
   ]
  },
  {
   "cell_type": "code",
   "execution_count": 11,
   "metadata": {},
   "outputs": [
    {
     "name": "stdout",
     "output_type": "stream",
     "text": [
      "En la primera bolsa, hay una probabilidad del 71% que saque chupetines\n",
      "En la segunda bolsa, hay una probabilidad del 14% que saque chupetines\n",
      "En la tercera bolsa, hay una probabilidad del 14% que saque chupetines\n"
     ]
    }
   ],
   "source": [
    "print(\"En la primera bolsa, hay una probabilidad del 71% que saque chupetines\")\n",
    "print(\"En la segunda bolsa, hay una probabilidad del 14% que saque chupetines\")\n",
    "print(\"En la tercera bolsa, hay una probabilidad del 14% que saque chupetines\")"
   ]
  },
  {
   "cell_type": "code",
   "execution_count": 14,
   "metadata": {},
   "outputs": [
    {
     "data": {
      "text/plain": [
       "array([0.25, 0.25, 0.5 ])"
      ]
     },
     "execution_count": 14,
     "metadata": {},
     "output_type": "execute_result"
    }
   ],
   "source": [
    "#Respuesta3: probabilidadd de sacar chocolates\n",
    "\n",
    "bolsas = [1/3, 1/3, 1/3]\n",
    "porcentajes = [0.3, 0.3,0.6]\n",
    "\n",
    "bayes(bolsas,porcentajes)"
   ]
  },
  {
   "cell_type": "code",
   "execution_count": 15,
   "metadata": {},
   "outputs": [
    {
     "name": "stdout",
     "output_type": "stream",
     "text": [
      "En la primera bolsa, hay una probabilidad del 25% que saque chocolates\n",
      "En la segunda bolsa, hay una probabilidad del 25% que saque chocolates\n",
      "En la tercera bolsa, hay una probabilidad del 50% que saque chocolates\n"
     ]
    }
   ],
   "source": [
    "print(\"En la primera bolsa, hay una probabilidad del 25% que saque chocolates\")\n",
    "print(\"En la segunda bolsa, hay una probabilidad del 25% que saque chocolates\")\n",
    "print(\"En la tercera bolsa, hay una probabilidad del 50% que saque chocolates\")"
   ]
  },
  {
   "cell_type": "code",
   "execution_count": null,
   "metadata": {},
   "outputs": [],
   "source": []
  }
 ],
 "metadata": {
  "kernelspec": {
   "display_name": "Python 3",
   "language": "python",
   "name": "python3"
  },
  "language_info": {
   "codemirror_mode": {
    "name": "ipython",
    "version": 3
   },
   "file_extension": ".py",
   "mimetype": "text/x-python",
   "name": "python",
   "nbconvert_exporter": "python",
   "pygments_lexer": "ipython3",
   "version": "3.7.3"
  }
 },
 "nbformat": 4,
 "nbformat_minor": 2
}
